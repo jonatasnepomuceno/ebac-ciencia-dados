{
  "cells": [
    {
      "cell_type": "markdown",
      "metadata": {
        "id": "O29ApaGi_06b"
      },
      "source": [
        "# Módulo 5 Tarefa 1\n",
        "## Base de nascidos vivos do DataSUS\n",
        "O DataSUS disponibiliza diversos arquivos de dados com relação a seus segurados, conforme a [lei da transparência de informações públicas](https://www.sisgov.com/transparencia-acesso-informacao/#:~:text=A%20Lei%20da%20Transpar%C3%AAncia%20(LC,em%20um%20site%20na%20internet.). \n",
        "\n",
        "Essas informações podem ser obtidas pela internet [aqui](http://www2.datasus.gov.br/DATASUS/index.php?area=0901&item=1). Como o processo de obtenção desses arquivos foge um pouco do nosso escopo, deixamos o arquivo ```SINASC_RO_2019.csv``` já como vai ser encontrado no DataSUS. O dicionário de dados está no arquivo ```estrutura_sinasc_para_CD.pdf``` (o nome do arquivo tal qual no portal do DataSUS).\n",
        "\n",
        "### Nosso objetivo\n",
        "Queremos deixar uma base organizada para podermos estudar a relação entre partos com risco para o bebê e algumas condições como tempo de parto, consultas de pré-natal etc.\n",
        "\n",
        "#### Preparação da base\n",
        "1. Carregue a base 'SINASC_RO_2019.csv'. Conte o número de registros e o número de registros não duplicados da base. Dica: você aprendeu um método que remove duplicados, encadeie este método com um outro método que conta o número de linhas. **Há linhas duplicadas?**  \n",
        "\n",
        "2. Conte o número de valores *missing* por variável.  \n",
        "\n",
        "3. Ok, no item anterior você deve ter achado pouco prático ler a informação de tantas variáveis, muitas delas nem devem ser interesantes. Então crie uma seleção dessa base somente com as colunas que interessam. São elas:\n",
        "``` \n",
        "['LOCNASC', 'IDADEMAE', 'ESTCIVMAE', 'ESCMAE', 'QTDFILVIVO', \n",
        "    'GESTACAO', 'GRAVIDEZ', 'CONSULTAS', 'APGAR5'] \n",
        "```\n",
        "Refaça a contagem de valores *missings*.  \n",
        "\n",
        "4. Apgar é uma *nota* que o pediatra dá ao bebê quando nasce de acordo com algumas características associadas principalmente à respiração. Apgar 1 e Apgar 5 são as notas 1 e 5 minutos do nascimento. Apgar5 será a nossa variável de interesse principal. Então remova todos os registros com Apgar5 não preenchido. Para esta seleção, conte novamente o número de linhas e o número de *missings*.  \n",
        "\n",
        "5. observe que as variáveis ```['ESTCIVMAE', 'CONSULTAS']``` possuem o código ```9```, que significa *ignorado*. Vamos assumir que o não preenchido é o mesmo que o código ```9```.<br>\n",
        "6. Substitua os valores faltantes da quantitativa (```QTDFILVIVO```) por zero.  \n",
        "7. Das restantes, decida que valore te parece mais adequado (um 'não preenchido' ou um valor 'mais provável' como no item anterior) e preencha. Justifique. Lembre-se de que tratamento de dados é trabalho do cientista, e que estamos tomando decisões a todo o momento - não há necessariamente certo e errado aqui.  \n",
        "8. O Apgar possui uma classificação indicando se o bebê passou por asfixia:\n",
        "- Entre 8 e 10 está em uma faixa 'normal'. \n",
        "- Entre 6 e 7, significa que o recém-nascido passou por 'asfixia leve'. \n",
        "- Entre 4 e 5 significa 'asfixia moderada'.\n",
        "- Entre 0 e 3 significa 'asfixia severa'.  \n",
        "\n",
        "Crie uma categorização dessa variável com essa codificação e calcule as frequências dessa categorização.  \n",
        "<br>\n",
        "9. Renomeie as variáveis para que fiquem no *snake case*, ou seja, em letras minúsculas, com um *underscore* entre as palávras. Dica: repare que se você não quiser criar um *dataframe* novo, você vai precisar usar a opção ```inplace = True```."
      ]
    },
    {
      "cell_type": "code",
      "execution_count": 2,
      "metadata": {
        "colab": {
          "base_uri": "https://localhost:8080/"
        },
        "id": "7AdlBXjI_06k",
        "outputId": "647a4ef9-f7bb-4915-9e13-f26df8a1b8c3"
      },
      "outputs": [
        {
          "output_type": "stream",
          "name": "stdout",
          "text": [
            "(27028, 69)\n"
          ]
        },
        {
          "output_type": "execute_result",
          "data": {
            "text/plain": [
              "(27028, 69)"
            ]
          },
          "metadata": {},
          "execution_count": 2
        }
      ],
      "source": [
        "import pandas as pd\n",
        "import requests\n",
        "\n",
        "# 1) seu código aqui\n",
        "sinasc = pd.read_csv('SINASC_RO_2019.csv')\n",
        "print(sinasc.shape)\n",
        "sinasc.drop_duplicates().shape\n",
        "# Não há duplicados"
      ]
    },
    {
      "cell_type": "code",
      "execution_count": 3,
      "metadata": {
        "colab": {
          "base_uri": "https://localhost:8080/"
        },
        "id": "aulDk6Kk_06m",
        "outputId": "cb80ec1f-7a9f-4c2e-980b-96dbe1849a6e"
      },
      "outputs": [
        {
          "output_type": "execute_result",
          "data": {
            "text/plain": [
              "ORIGEM          0\n",
              "CODESTAB      115\n",
              "CODMUNNASC      0\n",
              "LOCNASC         0\n",
              "IDADEMAE        0\n",
              "             ... \n",
              "munResUf        0\n",
              "munResLat       1\n",
              "munResLon       1\n",
              "munResAlt       1\n",
              "munResArea      1\n",
              "Length: 69, dtype: int64"
            ]
          },
          "metadata": {},
          "execution_count": 3
        }
      ],
      "source": [
        "# 2) seu código aqui\n",
        "sinasc.isna().sum()"
      ]
    },
    {
      "cell_type": "code",
      "execution_count": 4,
      "metadata": {
        "colab": {
          "base_uri": "https://localhost:8080/"
        },
        "id": "qdPSb1Q4_06n",
        "outputId": "29fc6ae1-5515-41d9-c687-cde63b10b7fe"
      },
      "outputs": [
        {
          "output_type": "execute_result",
          "data": {
            "text/plain": [
              "Index(['ORIGEM', 'CODESTAB', 'CODMUNNASC', 'LOCNASC', 'IDADEMAE', 'ESTCIVMAE',\n",
              "       'ESCMAE', 'CODOCUPMAE', 'QTDFILVIVO', 'QTDFILMORT', 'CODMUNRES',\n",
              "       'GESTACAO', 'GRAVIDEZ', 'PARTO', 'CONSULTAS', 'DTNASC', 'HORANASC',\n",
              "       'SEXO', 'APGAR1', 'APGAR5', 'RACACOR', 'PESO', 'IDANOMAL', 'DTCADASTRO',\n",
              "       'CODANOMAL', 'NUMEROLOTE', 'VERSAOSIST', 'DTRECEBIM', 'DIFDATA',\n",
              "       'DTRECORIGA', 'NATURALMAE', 'CODMUNNATU', 'CODUFNATU', 'ESCMAE2010',\n",
              "       'SERIESCMAE', 'DTNASCMAE', 'RACACORMAE', 'QTDGESTANT', 'QTDPARTNOR',\n",
              "       'QTDPARTCES', 'IDADEPAI', 'DTULTMENST', 'SEMAGESTAC', 'TPMETESTIM',\n",
              "       'CONSPRENAT', 'MESPRENAT', 'TPAPRESENT', 'STTRABPART', 'STCESPARTO',\n",
              "       'TPNASCASSI', 'TPFUNCRESP', 'TPDOCRESP', 'DTDECLARAC', 'ESCMAEAGR1',\n",
              "       'STDNEPIDEM', 'STDNNOVA', 'CODPAISRES', 'TPROBSON', 'PARIDADE',\n",
              "       'KOTELCHUCK', 'CONTADOR', 'munResStatus', 'munResTipo', 'munResNome',\n",
              "       'munResUf', 'munResLat', 'munResLon', 'munResAlt', 'munResArea'],\n",
              "      dtype='object')"
            ]
          },
          "metadata": {},
          "execution_count": 4
        }
      ],
      "source": [
        "# 3) seu código aqui\n",
        "sinasc.columns"
      ]
    },
    {
      "cell_type": "code",
      "source": [
        "sinasc = sinasc[['LOCNASC', 'IDADEMAE', 'ESTCIVMAE', 'ESCMAE', 'QTDFILVIVO', 'GESTACAO', 'GRAVIDEZ', 'CONSULTAS', 'APGAR5']]"
      ],
      "metadata": {
        "id": "KAgv4X-uBEPv"
      },
      "execution_count": 5,
      "outputs": []
    },
    {
      "cell_type": "code",
      "source": [
        "sinasc.isna().sum()"
      ],
      "metadata": {
        "colab": {
          "base_uri": "https://localhost:8080/"
        },
        "id": "uCKn0FowDAi4",
        "outputId": "480165c7-3699-46e5-f950-ce8c985af035"
      },
      "execution_count": 6,
      "outputs": [
        {
          "output_type": "execute_result",
          "data": {
            "text/plain": [
              "LOCNASC          0\n",
              "IDADEMAE         0\n",
              "ESTCIVMAE      317\n",
              "ESCMAE         312\n",
              "QTDFILVIVO    1573\n",
              "GESTACAO      1232\n",
              "GRAVIDEZ        79\n",
              "CONSULTAS        0\n",
              "APGAR5         103\n",
              "dtype: int64"
            ]
          },
          "metadata": {},
          "execution_count": 6
        }
      ]
    },
    {
      "cell_type": "code",
      "execution_count": 7,
      "metadata": {
        "colab": {
          "base_uri": "https://localhost:8080/"
        },
        "id": "ThWXXteC_06o",
        "outputId": "79061126-51a3-4b9e-ffcb-cb2a4dc34de4"
      },
      "outputs": [
        {
          "output_type": "execute_result",
          "data": {
            "text/plain": [
              "(27028, 9)"
            ]
          },
          "metadata": {},
          "execution_count": 7
        }
      ],
      "source": [
        "# 4) seu código aqui\n",
        "sinasc.shape"
      ]
    },
    {
      "cell_type": "code",
      "source": [
        "sinasc['APGAR5'].dropna"
      ],
      "metadata": {
        "colab": {
          "base_uri": "https://localhost:8080/"
        },
        "id": "nT6RhUaTD92Y",
        "outputId": "335bca0b-c24b-4764-e8a9-344047d326b3"
      },
      "execution_count": 8,
      "outputs": [
        {
          "output_type": "execute_result",
          "data": {
            "text/plain": [
              "<bound method Series.dropna of 0        10.0\n",
              "1         9.0\n",
              "2        10.0\n",
              "3        10.0\n",
              "4        10.0\n",
              "         ... \n",
              "27023     9.0\n",
              "27024     9.0\n",
              "27025    10.0\n",
              "27026     9.0\n",
              "27027     8.0\n",
              "Name: APGAR5, Length: 27028, dtype: float64>"
            ]
          },
          "metadata": {},
          "execution_count": 8
        }
      ]
    },
    {
      "cell_type": "code",
      "source": [
        "#sinasc[['LOCNASC', 'IDADEMAE', 'ESTCIVMAE', 'ESCMAE', 'QTDFILVIVO', 'GESTACAO', 'GRAVIDEZ', 'CONSULTAS', 'APGAR5']].isna().sum()\n",
        "sinasc['APGAR5'].isna().sum()"
      ],
      "metadata": {
        "colab": {
          "base_uri": "https://localhost:8080/"
        },
        "id": "Htp33f6CEHtu",
        "outputId": "36c130f3-b6d0-474e-9708-2daaa9a573fe"
      },
      "execution_count": 9,
      "outputs": [
        {
          "output_type": "execute_result",
          "data": {
            "text/plain": [
              "103"
            ]
          },
          "metadata": {},
          "execution_count": 9
        }
      ]
    },
    {
      "cell_type": "code",
      "execution_count": 10,
      "metadata": {
        "id": "YC57_vEM_06o"
      },
      "outputs": [],
      "source": [
        "# 5) seu código aqui\n",
        "sinasc['ESTCIVMAE'].fillna(9, inplace = True)"
      ]
    },
    {
      "cell_type": "code",
      "source": [
        "sinasc['CONSULTAS'].fillna(9, inplace = True)"
      ],
      "metadata": {
        "id": "0qPteHX7MwqW"
      },
      "execution_count": 11,
      "outputs": []
    },
    {
      "cell_type": "code",
      "execution_count": 12,
      "metadata": {
        "id": "f1gsIwYa_06p"
      },
      "outputs": [],
      "source": [
        "# 6) Seu código aqui\n",
        "sinasc['QTDFILVIVO'].fillna(0, inplace = True)"
      ]
    },
    {
      "cell_type": "code",
      "execution_count": 13,
      "metadata": {
        "colab": {
          "base_uri": "https://localhost:8080/"
        },
        "id": "2uxy-adM_06q",
        "outputId": "75768e0f-1374-4c8a-9934-884f3f9072b5"
      },
      "outputs": [
        {
          "output_type": "execute_result",
          "data": {
            "text/plain": [
              "LOCNASC          0\n",
              "IDADEMAE         0\n",
              "ESTCIVMAE        0\n",
              "ESCMAE         312\n",
              "QTDFILVIVO       0\n",
              "GESTACAO      1232\n",
              "GRAVIDEZ        79\n",
              "CONSULTAS        0\n",
              "APGAR5         103\n",
              "dtype: int64"
            ]
          },
          "metadata": {},
          "execution_count": 13
        }
      ],
      "source": [
        "# 7) seu código aqui\n",
        "sinasc.isna().sum()"
      ]
    },
    {
      "cell_type": "code",
      "source": [
        "sinasc['ESCMAE'].fillna(0, inplace = True)\n",
        "sinasc['GESTACAO'].fillna(9, inplace = True)\n",
        "sinasc['GRAVIDEZ'].fillna(9, inplace = True)"
      ],
      "metadata": {
        "id": "VvpASH1DQlcJ"
      },
      "execution_count": 14,
      "outputs": []
    },
    {
      "cell_type": "code",
      "source": [
        "sinasc.isna().sum()"
      ],
      "metadata": {
        "colab": {
          "base_uri": "https://localhost:8080/"
        },
        "id": "yMP0c19kRR7i",
        "outputId": "96a89754-8a29-475b-b717-9482ab7cecde"
      },
      "execution_count": 15,
      "outputs": [
        {
          "output_type": "execute_result",
          "data": {
            "text/plain": [
              "LOCNASC         0\n",
              "IDADEMAE        0\n",
              "ESTCIVMAE       0\n",
              "ESCMAE          0\n",
              "QTDFILVIVO      0\n",
              "GESTACAO        0\n",
              "GRAVIDEZ        0\n",
              "CONSULTAS       0\n",
              "APGAR5        103\n",
              "dtype: int64"
            ]
          },
          "metadata": {},
          "execution_count": 15
        }
      ]
    },
    {
      "cell_type": "code",
      "source": [
        "sinasc.dropna(inplace = True)"
      ],
      "metadata": {
        "id": "NQpg4xOcRTgJ"
      },
      "execution_count": 16,
      "outputs": []
    },
    {
      "cell_type": "code",
      "source": [
        "sinasc.isna().sum()"
      ],
      "metadata": {
        "colab": {
          "base_uri": "https://localhost:8080/"
        },
        "id": "080-jaNwRaim",
        "outputId": "3f476b31-0809-4605-9fa4-7bef3bfa0d88"
      },
      "execution_count": 17,
      "outputs": [
        {
          "output_type": "execute_result",
          "data": {
            "text/plain": [
              "LOCNASC       0\n",
              "IDADEMAE      0\n",
              "ESTCIVMAE     0\n",
              "ESCMAE        0\n",
              "QTDFILVIVO    0\n",
              "GESTACAO      0\n",
              "GRAVIDEZ      0\n",
              "CONSULTAS     0\n",
              "APGAR5        0\n",
              "dtype: int64"
            ]
          },
          "metadata": {},
          "execution_count": 17
        }
      ]
    },
    {
      "cell_type": "code",
      "execution_count": 18,
      "metadata": {
        "colab": {
          "base_uri": "https://localhost:8080/",
          "height": 423
        },
        "id": "JAYZ_hBv_06r",
        "outputId": "33afb352-fa9f-4a89-e049-e68f50087429"
      },
      "outputs": [
        {
          "output_type": "execute_result",
          "data": {
            "text/plain": [
              "       LOCNASC  IDADEMAE  ESTCIVMAE           ESCMAE  QTDFILVIVO  \\\n",
              "0            1        19        5.0      8 a 11 anos         0.0   \n",
              "1            1        29        2.0      8 a 11 anos         1.0   \n",
              "2            1        37        9.0      8 a 11 anos         2.0   \n",
              "3            1        30        5.0  12 anos ou mais         0.0   \n",
              "4            1        30        2.0      8 a 11 anos         1.0   \n",
              "...        ...       ...        ...              ...         ...   \n",
              "27023        1        32        2.0  12 anos ou mais         1.0   \n",
              "27024        1        19        1.0      8 a 11 anos         0.0   \n",
              "27025        1        24        2.0      8 a 11 anos         0.0   \n",
              "27026        1        21        2.0      8 a 11 anos         1.0   \n",
              "27027        1        18        5.0      8 a 11 anos         1.0   \n",
              "\n",
              "              GESTACAO GRAVIDEZ  CONSULTAS  APGAR5 faixa-Apgar  \n",
              "0      37 a 41 semanas    Única          4    10.0      normal  \n",
              "1      37 a 41 semanas    Única          4     9.0      normal  \n",
              "2      37 a 41 semanas    Única          4    10.0      normal  \n",
              "3      37 a 41 semanas    Única          3    10.0      normal  \n",
              "4      37 a 41 semanas    Única          4    10.0      normal  \n",
              "...                ...      ...        ...     ...         ...  \n",
              "27023  32 a 36 semanas    Única          4     9.0      normal  \n",
              "27024  37 a 41 semanas    Única          4     9.0      normal  \n",
              "27025  37 a 41 semanas    Única          4    10.0      normal  \n",
              "27026  32 a 36 semanas    Única          4     9.0      normal  \n",
              "27027  37 a 41 semanas    Única          4     8.0      normal  \n",
              "\n",
              "[26925 rows x 10 columns]"
            ],
            "text/html": [
              "\n",
              "  <div id=\"df-496006bc-a1df-4484-84fb-f294fe2f3982\">\n",
              "    <div class=\"colab-df-container\">\n",
              "      <div>\n",
              "<style scoped>\n",
              "    .dataframe tbody tr th:only-of-type {\n",
              "        vertical-align: middle;\n",
              "    }\n",
              "\n",
              "    .dataframe tbody tr th {\n",
              "        vertical-align: top;\n",
              "    }\n",
              "\n",
              "    .dataframe thead th {\n",
              "        text-align: right;\n",
              "    }\n",
              "</style>\n",
              "<table border=\"1\" class=\"dataframe\">\n",
              "  <thead>\n",
              "    <tr style=\"text-align: right;\">\n",
              "      <th></th>\n",
              "      <th>LOCNASC</th>\n",
              "      <th>IDADEMAE</th>\n",
              "      <th>ESTCIVMAE</th>\n",
              "      <th>ESCMAE</th>\n",
              "      <th>QTDFILVIVO</th>\n",
              "      <th>GESTACAO</th>\n",
              "      <th>GRAVIDEZ</th>\n",
              "      <th>CONSULTAS</th>\n",
              "      <th>APGAR5</th>\n",
              "      <th>faixa-Apgar</th>\n",
              "    </tr>\n",
              "  </thead>\n",
              "  <tbody>\n",
              "    <tr>\n",
              "      <th>0</th>\n",
              "      <td>1</td>\n",
              "      <td>19</td>\n",
              "      <td>5.0</td>\n",
              "      <td>8 a 11 anos</td>\n",
              "      <td>0.0</td>\n",
              "      <td>37 a 41 semanas</td>\n",
              "      <td>Única</td>\n",
              "      <td>4</td>\n",
              "      <td>10.0</td>\n",
              "      <td>normal</td>\n",
              "    </tr>\n",
              "    <tr>\n",
              "      <th>1</th>\n",
              "      <td>1</td>\n",
              "      <td>29</td>\n",
              "      <td>2.0</td>\n",
              "      <td>8 a 11 anos</td>\n",
              "      <td>1.0</td>\n",
              "      <td>37 a 41 semanas</td>\n",
              "      <td>Única</td>\n",
              "      <td>4</td>\n",
              "      <td>9.0</td>\n",
              "      <td>normal</td>\n",
              "    </tr>\n",
              "    <tr>\n",
              "      <th>2</th>\n",
              "      <td>1</td>\n",
              "      <td>37</td>\n",
              "      <td>9.0</td>\n",
              "      <td>8 a 11 anos</td>\n",
              "      <td>2.0</td>\n",
              "      <td>37 a 41 semanas</td>\n",
              "      <td>Única</td>\n",
              "      <td>4</td>\n",
              "      <td>10.0</td>\n",
              "      <td>normal</td>\n",
              "    </tr>\n",
              "    <tr>\n",
              "      <th>3</th>\n",
              "      <td>1</td>\n",
              "      <td>30</td>\n",
              "      <td>5.0</td>\n",
              "      <td>12 anos ou mais</td>\n",
              "      <td>0.0</td>\n",
              "      <td>37 a 41 semanas</td>\n",
              "      <td>Única</td>\n",
              "      <td>3</td>\n",
              "      <td>10.0</td>\n",
              "      <td>normal</td>\n",
              "    </tr>\n",
              "    <tr>\n",
              "      <th>4</th>\n",
              "      <td>1</td>\n",
              "      <td>30</td>\n",
              "      <td>2.0</td>\n",
              "      <td>8 a 11 anos</td>\n",
              "      <td>1.0</td>\n",
              "      <td>37 a 41 semanas</td>\n",
              "      <td>Única</td>\n",
              "      <td>4</td>\n",
              "      <td>10.0</td>\n",
              "      <td>normal</td>\n",
              "    </tr>\n",
              "    <tr>\n",
              "      <th>...</th>\n",
              "      <td>...</td>\n",
              "      <td>...</td>\n",
              "      <td>...</td>\n",
              "      <td>...</td>\n",
              "      <td>...</td>\n",
              "      <td>...</td>\n",
              "      <td>...</td>\n",
              "      <td>...</td>\n",
              "      <td>...</td>\n",
              "      <td>...</td>\n",
              "    </tr>\n",
              "    <tr>\n",
              "      <th>27023</th>\n",
              "      <td>1</td>\n",
              "      <td>32</td>\n",
              "      <td>2.0</td>\n",
              "      <td>12 anos ou mais</td>\n",
              "      <td>1.0</td>\n",
              "      <td>32 a 36 semanas</td>\n",
              "      <td>Única</td>\n",
              "      <td>4</td>\n",
              "      <td>9.0</td>\n",
              "      <td>normal</td>\n",
              "    </tr>\n",
              "    <tr>\n",
              "      <th>27024</th>\n",
              "      <td>1</td>\n",
              "      <td>19</td>\n",
              "      <td>1.0</td>\n",
              "      <td>8 a 11 anos</td>\n",
              "      <td>0.0</td>\n",
              "      <td>37 a 41 semanas</td>\n",
              "      <td>Única</td>\n",
              "      <td>4</td>\n",
              "      <td>9.0</td>\n",
              "      <td>normal</td>\n",
              "    </tr>\n",
              "    <tr>\n",
              "      <th>27025</th>\n",
              "      <td>1</td>\n",
              "      <td>24</td>\n",
              "      <td>2.0</td>\n",
              "      <td>8 a 11 anos</td>\n",
              "      <td>0.0</td>\n",
              "      <td>37 a 41 semanas</td>\n",
              "      <td>Única</td>\n",
              "      <td>4</td>\n",
              "      <td>10.0</td>\n",
              "      <td>normal</td>\n",
              "    </tr>\n",
              "    <tr>\n",
              "      <th>27026</th>\n",
              "      <td>1</td>\n",
              "      <td>21</td>\n",
              "      <td>2.0</td>\n",
              "      <td>8 a 11 anos</td>\n",
              "      <td>1.0</td>\n",
              "      <td>32 a 36 semanas</td>\n",
              "      <td>Única</td>\n",
              "      <td>4</td>\n",
              "      <td>9.0</td>\n",
              "      <td>normal</td>\n",
              "    </tr>\n",
              "    <tr>\n",
              "      <th>27027</th>\n",
              "      <td>1</td>\n",
              "      <td>18</td>\n",
              "      <td>5.0</td>\n",
              "      <td>8 a 11 anos</td>\n",
              "      <td>1.0</td>\n",
              "      <td>37 a 41 semanas</td>\n",
              "      <td>Única</td>\n",
              "      <td>4</td>\n",
              "      <td>8.0</td>\n",
              "      <td>normal</td>\n",
              "    </tr>\n",
              "  </tbody>\n",
              "</table>\n",
              "<p>26925 rows × 10 columns</p>\n",
              "</div>\n",
              "      <button class=\"colab-df-convert\" onclick=\"convertToInteractive('df-496006bc-a1df-4484-84fb-f294fe2f3982')\"\n",
              "              title=\"Convert this dataframe to an interactive table.\"\n",
              "              style=\"display:none;\">\n",
              "        \n",
              "  <svg xmlns=\"http://www.w3.org/2000/svg\" height=\"24px\"viewBox=\"0 0 24 24\"\n",
              "       width=\"24px\">\n",
              "    <path d=\"M0 0h24v24H0V0z\" fill=\"none\"/>\n",
              "    <path d=\"M18.56 5.44l.94 2.06.94-2.06 2.06-.94-2.06-.94-.94-2.06-.94 2.06-2.06.94zm-11 1L8.5 8.5l.94-2.06 2.06-.94-2.06-.94L8.5 2.5l-.94 2.06-2.06.94zm10 10l.94 2.06.94-2.06 2.06-.94-2.06-.94-.94-2.06-.94 2.06-2.06.94z\"/><path d=\"M17.41 7.96l-1.37-1.37c-.4-.4-.92-.59-1.43-.59-.52 0-1.04.2-1.43.59L10.3 9.45l-7.72 7.72c-.78.78-.78 2.05 0 2.83L4 21.41c.39.39.9.59 1.41.59.51 0 1.02-.2 1.41-.59l7.78-7.78 2.81-2.81c.8-.78.8-2.07 0-2.86zM5.41 20L4 18.59l7.72-7.72 1.47 1.35L5.41 20z\"/>\n",
              "  </svg>\n",
              "      </button>\n",
              "      \n",
              "  <style>\n",
              "    .colab-df-container {\n",
              "      display:flex;\n",
              "      flex-wrap:wrap;\n",
              "      gap: 12px;\n",
              "    }\n",
              "\n",
              "    .colab-df-convert {\n",
              "      background-color: #E8F0FE;\n",
              "      border: none;\n",
              "      border-radius: 50%;\n",
              "      cursor: pointer;\n",
              "      display: none;\n",
              "      fill: #1967D2;\n",
              "      height: 32px;\n",
              "      padding: 0 0 0 0;\n",
              "      width: 32px;\n",
              "    }\n",
              "\n",
              "    .colab-df-convert:hover {\n",
              "      background-color: #E2EBFA;\n",
              "      box-shadow: 0px 1px 2px rgba(60, 64, 67, 0.3), 0px 1px 3px 1px rgba(60, 64, 67, 0.15);\n",
              "      fill: #174EA6;\n",
              "    }\n",
              "\n",
              "    [theme=dark] .colab-df-convert {\n",
              "      background-color: #3B4455;\n",
              "      fill: #D2E3FC;\n",
              "    }\n",
              "\n",
              "    [theme=dark] .colab-df-convert:hover {\n",
              "      background-color: #434B5C;\n",
              "      box-shadow: 0px 1px 3px 1px rgba(0, 0, 0, 0.15);\n",
              "      filter: drop-shadow(0px 1px 2px rgba(0, 0, 0, 0.3));\n",
              "      fill: #FFFFFF;\n",
              "    }\n",
              "  </style>\n",
              "\n",
              "      <script>\n",
              "        const buttonEl =\n",
              "          document.querySelector('#df-496006bc-a1df-4484-84fb-f294fe2f3982 button.colab-df-convert');\n",
              "        buttonEl.style.display =\n",
              "          google.colab.kernel.accessAllowed ? 'block' : 'none';\n",
              "\n",
              "        async function convertToInteractive(key) {\n",
              "          const element = document.querySelector('#df-496006bc-a1df-4484-84fb-f294fe2f3982');\n",
              "          const dataTable =\n",
              "            await google.colab.kernel.invokeFunction('convertToInteractive',\n",
              "                                                     [key], {});\n",
              "          if (!dataTable) return;\n",
              "\n",
              "          const docLinkHtml = 'Like what you see? Visit the ' +\n",
              "            '<a target=\"_blank\" href=https://colab.research.google.com/notebooks/data_table.ipynb>data table notebook</a>'\n",
              "            + ' to learn more about interactive tables.';\n",
              "          element.innerHTML = '';\n",
              "          dataTable['output_type'] = 'display_data';\n",
              "          await google.colab.output.renderOutput(dataTable, element);\n",
              "          const docLink = document.createElement('div');\n",
              "          docLink.innerHTML = docLinkHtml;\n",
              "          element.appendChild(docLink);\n",
              "        }\n",
              "      </script>\n",
              "    </div>\n",
              "  </div>\n",
              "  "
            ]
          },
          "metadata": {},
          "execution_count": 18
        }
      ],
      "source": [
        "# 8) seu código aqui\n",
        "sinasc.loc[(sinasc['APGAR5'] >= 8) & (sinasc['APGAR5'] <= 10),'faixa-Apgar'] = 'normal'\n",
        "sinasc.loc[(sinasc['APGAR5'] >= 6) & (sinasc['APGAR5'] <= 7),'faixa-Apgar'] = 'asfixia leve'\n",
        "sinasc.loc[(sinasc['APGAR5'] >= 4) & (sinasc['APGAR5'] <= 5),'faixa-Apgar'] = 'asfixia moderada'\n",
        "sinasc.loc[(sinasc['APGAR5'] >= 0) & (sinasc['APGAR5'] <= 3),'faixa-Apgar'] = 'asfixia severa'\n",
        "sinasc"
      ]
    },
    {
      "cell_type": "code",
      "source": [
        "sinasc['faixa-Apgar'].unique()"
      ],
      "metadata": {
        "id": "05l5Dl_wUTM-",
        "colab": {
          "base_uri": "https://localhost:8080/"
        },
        "outputId": "006f6d31-448b-4e4b-c2f3-f62fa45dd810"
      },
      "execution_count": 23,
      "outputs": [
        {
          "output_type": "execute_result",
          "data": {
            "text/plain": [
              "array(['normal', 'asfixia leve', 'asfixia severa', 'asfixia moderada'],\n",
              "      dtype=object)"
            ]
          },
          "metadata": {},
          "execution_count": 23
        }
      ]
    },
    {
      "cell_type": "code",
      "execution_count": 41,
      "metadata": {
        "id": "LGBYeRpG_06r",
        "colab": {
          "base_uri": "https://localhost:8080/"
        },
        "outputId": "cbe37caa-3fa0-4318-94b1-43cf98685ccd"
      },
      "outputs": [
        {
          "output_type": "execute_result",
          "data": {
            "text/plain": [
              "['locnasc',\n",
              " 'idademae',\n",
              " 'estcivmae',\n",
              " 'escmae',\n",
              " 'qtdfilvivo',\n",
              " 'gestacao',\n",
              " 'gravidez',\n",
              " 'consultas',\n",
              " 'apgar5',\n",
              " 'faixa-apgar']"
            ]
          },
          "metadata": {},
          "execution_count": 41
        }
      ],
      "source": [
        "# 9) seu código aqui\n",
        "sinasc.columns\n",
        "\n",
        "colunas = ['LOCNASC', 'IDADEMAE', 'ESTCIVMAE', 'ESCMAE', 'QTDFILVIVO', 'GESTACAO',\n",
        "       'GRAVIDEZ', 'CONSULTAS', 'APGAR5', 'faixa-Apgar']\n",
        "       \n",
        "coluna_nova = []\n",
        "for coluna in colunas:\n",
        "  coluna = coluna.casefold()\n",
        "  coluna_nova.append(coluna)\n",
        "\n",
        "coluna_nova"
      ]
    },
    {
      "cell_type": "code",
      "source": [
        "sinasc.columns = coluna_nova\n",
        "sinasc.columns"
      ],
      "metadata": {
        "colab": {
          "base_uri": "https://localhost:8080/"
        },
        "id": "OFfyFd0dvVVi",
        "outputId": "d723f0f0-77ed-4aa9-e542-491574958043"
      },
      "execution_count": 45,
      "outputs": [
        {
          "output_type": "execute_result",
          "data": {
            "text/plain": [
              "Index(['locnasc', 'idademae', 'estcivmae', 'escmae', 'qtdfilvivo', 'gestacao',\n",
              "       'gravidez', 'consultas', 'apgar5', 'faixa-apgar'],\n",
              "      dtype='object')"
            ]
          },
          "metadata": {},
          "execution_count": 45
        }
      ]
    },
    {
      "cell_type": "code",
      "source": [
        ""
      ],
      "metadata": {
        "id": "trvZDmljtPmr"
      },
      "execution_count": null,
      "outputs": []
    }
  ],
  "metadata": {
    "kernelspec": {
      "display_name": "Python 3",
      "language": "python",
      "name": "python3"
    },
    "language_info": {
      "codemirror_mode": {
        "name": "ipython",
        "version": 3
      },
      "file_extension": ".py",
      "mimetype": "text/x-python",
      "name": "python",
      "nbconvert_exporter": "python",
      "pygments_lexer": "ipython3",
      "version": "3.8.5"
    },
    "colab": {
      "name": "Mod5Ex_aulas_01a03.ipynb",
      "provenance": []
    }
  },
  "nbformat": 4,
  "nbformat_minor": 0
}