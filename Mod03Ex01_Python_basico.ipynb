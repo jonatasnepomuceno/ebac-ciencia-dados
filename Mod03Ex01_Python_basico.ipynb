{
  "cells": [
    {
      "cell_type": "markdown",
      "metadata": {
        "id": "ByIqJJtMYo0z"
      },
      "source": [
        "### 01 - Teste de gravidez\n",
        "Escreva uma célula com controle de fluxos que tem como premissa a existência das seguintes variáveis:\n",
        "\n",
        "- ```sexo``` como ```str``` indicando os valores '**M**' para masculino e '**F**' para feminino  \n",
        "- ```beta_hcg``` que indica a quantidade do beta-HCG no sangue em mUI/mL.\n",
        "\n",
        "A sua tarefa é escrever um código que imprima como resultado \"indivíduo do sexo masculino\" quando sexo = 'M', caso sexo = 'F', se o valor de beta-HCG for maior que 5, retorne \"Positivo\" indicando que a paciente está grávida, e retorne \"Negativo\" caso contrário.\n",
        "\n",
        "Não mexa nos valores da variável ```sexo``` nem em ```beta_hcg```, e escreva um código que funcione para quaisquer valores possíveis de ambos: ```sexo``` = '**M**' ou '**F**' e ```beta_hcg``` assumindo valores inteiros positivos."
      ]
    },
    {
      "cell_type": "code",
      "execution_count": null,
      "metadata": {
        "colab": {
          "base_uri": "https://localhost:8080/"
        },
        "id": "d-lj-Hh3Yo06",
        "outputId": "aafc0792-8e6b-4d35-8274-94db591596e8"
      },
      "outputs": [
        {
          "output_type": "stream",
          "name": "stdout",
          "text": [
            "Negativo\n"
          ]
        }
      ],
      "source": [
        "sexo = 'F'\n",
        "beta_hcg = 3\n",
        "\n",
        "# seu código vem abaixo desta linha\n",
        "sexo = sexo.lower()\n",
        "if sexo == 'm':\n",
        "    print(\"Indivíduo do sexo Masculino\")\n",
        "if sexo == 'f':\n",
        "    if beta_hcg > 5:\n",
        "        print(\"Positivo\")\n",
        "    else:\n",
        "        print(\"Negativo\")\n"
      ]
    },
    {
      "cell_type": "markdown",
      "metadata": {
        "id": "pj_NM8OmYo08"
      },
      "source": [
        "### 02 - Renomeando variáveis\n",
        "\n",
        "Vamos ver adiante que uma forma de renomear variáveis de um conjunto de dados é através de dicionários - o dicionário deve conter como chave o nome original, associando a cada chave um único valor (tipo *str*) que contenha o nome novo.\n",
        "\n",
        "A sua tarefa é escrever um dicionário que possa ser utilizado para traduzir as variáveis ```name``` (nome), ```age``` (idade) e ```income``` (renda). Ou seja, esse dicionário deve relacionar as chaves *name, age* e *income* às suas respectivas traduções."
      ]
    },
    {
      "cell_type": "code",
      "execution_count": null,
      "metadata": {
        "colab": {
          "base_uri": "https://localhost:8080/"
        },
        "id": "063D-1gxYo09",
        "outputId": "99c843dc-ba32-41f6-e0a0-a23a2ede83b5"
      },
      "outputs": [
        {
          "output_type": "execute_result",
          "data": {
            "text/plain": [
              "{'age': 'Idade da pessoa',\n",
              " 'income': 'Renda da pessoa',\n",
              " 'name': 'Nome da pessoa'}"
            ]
          },
          "metadata": {},
          "execution_count": 16
        }
      ],
      "source": [
        "dic_renomeacao = {'name': 'Nome da pessoa',\n",
        "                  'age': 'Idade da pessoa',\n",
        "                  'income': 'Renda da pessoa'}\n",
        "dic_renomeacao"
      ]
    },
    {
      "cell_type": "markdown",
      "metadata": {
        "id": "kUtHe5vBYo0-"
      },
      "source": [
        "### 03 - É divisível?\n",
        "A sua tarefa é escrever um código que indique se um número ```N``` é divisível por um número P. Escreva um programa que faça essa verificação para quaisquer combinações de ```N``` e ```M``` e devolva uma mensagem indicativa no output."
      ]
    },
    {
      "cell_type": "code",
      "execution_count": null,
      "metadata": {
        "colab": {
          "base_uri": "https://localhost:8080/"
        },
        "id": "7vBowQkiYo0_",
        "outputId": "abc4f093-2279-4a65-ca9c-c26a143aa9eb"
      },
      "outputs": [
        {
          "output_type": "stream",
          "name": "stdout",
          "text": [
            "6.0\n"
          ]
        }
      ],
      "source": [
        "N = 42\n",
        "M = 7\n",
        "\n",
        "#Seu código\n",
        "if (M == 0) | (N == 0):\n",
        "    print(\"Não é possível dividir por 0\")\n",
        "else:\n",
        "    resultado = N/M\n",
        "    print(resultado)\n"
      ]
    },
    {
      "cell_type": "markdown",
      "metadata": {
        "id": "hG1ai1wZYo0_"
      },
      "source": [
        "### 04 - Números primos\n",
        "> Um número **N** é primo se e somente se é divisível por 1, -1, por **N** e por -**N**.  \n",
        "\n",
        "Escreva um script que verifica se ```N``` é um número primo, verificando se ```N``` é divisível por todos os números de ```1``` a ```N-1```. Você vai precisar usar alguma ferramenta de *loop* que você aprendeu para isto. No final, devolva uma mensagem no output indicando se o número é primo ou não."
      ]
    },
    {
      "cell_type": "code",
      "execution_count": 44,
      "metadata": {
        "colab": {
          "base_uri": "https://localhost:8080/"
        },
        "id": "PrRhx108Yo1A",
        "outputId": "32f49e99-a6f9-4b80-8eb9-67e0267c5cb8"
      },
      "outputs": [
        {
          "output_type": "stream",
          "name": "stdout",
          "text": [
            "47 é primo.\n"
          ]
        }
      ],
      "source": [
        "N = 47\n",
        "\n",
        "# seu código abaixo\n",
        "i = 1\n",
        "e_primo = 0\n",
        "while i <= N:\n",
        "    if (N % N == 0) & (N % i == 0):\n",
        "        e_primo = e_primo + 1\n",
        "        #print(N,'dividi por', i)\n",
        "    i += 1\n",
        "if (e_primo == 2):\n",
        "    print(N, 'é primo.')\n",
        "else:\n",
        "    print(N, 'não é primo.')"
      ]
    },
    {
      "cell_type": "markdown",
      "metadata": {
        "id": "2FdkFuvRYo1B"
      },
      "source": [
        "### 05 - Desafio\n",
        "O algorítmo do exercício anterior não é o mais eficiente. O que você pode fazer para deixá-lo mais eficiente? Ou seja, executar menos comparações, portanto consumir menos tempo.\n",
        "1. Será que precisamos correr o loop até o final sempre?\n",
        "2. Será que precisamos mesmo verificar **todos** os números?\n",
        "3. Será que precisamos ir até N-1?\n",
        "\n",
        "Essas perguntas levam ao tipo de pensamento voltado a deixar um algoritmo mais eficiente. Veja se você consegue melhorar o seu."
      ]
    },
    {
      "cell_type": "code",
      "execution_count": 49,
      "metadata": {
        "id": "fIK_-4gvYo1C",
        "colab": {
          "base_uri": "https://localhost:8080/"
        },
        "outputId": "16dc8fb9-f962-4f45-d72d-41286fd3d04d"
      },
      "outputs": [
        {
          "output_type": "stream",
          "name": "stdout",
          "text": [
            "98 não é primo.\n"
          ]
        }
      ],
      "source": [
        "N = 98\n",
        "\n",
        "# seu código aqui\n",
        "if (N % N == 0) & (N % 1 == 0):\n",
        "    if (N % 2 == 0) | (N % 3 == 0) | (N % 5 == 0) | (N % 7 == 0):\n",
        "        print(N, 'não é primo.')\n",
        "    else:\n",
        "        print(N, 'é primo.')\n"
      ]
    },
    {
      "cell_type": "markdown",
      "metadata": {
        "id": "f2uQUPp5Yo1D"
      },
      "source": [
        "### 06 - Peso ideal 1\n",
        "O IMC (índice de massa corpórea) é um indicador de saúde mais bem aceito que o peso. Ele é calculado como:\n",
        "\n",
        "$$ IMC = \\dfrac{peso}{altura^2}$$\n",
        "\n",
        "Segundo a OMS, valores *normais* são entre 18.5 e 24.9.\n",
        "\n",
        "Sua tarefa é encontrar o ponto médio dessa faixa."
      ]
    },
    {
      "cell_type": "code",
      "execution_count": 70,
      "metadata": {
        "id": "9sdRkxyeYo1E",
        "outputId": "c01efd1a-f478-4436-a165-40f025379958",
        "colab": {
          "base_uri": "https://localhost:8080/"
        }
      },
      "outputs": [
        {
          "output_type": "execute_result",
          "data": {
            "text/plain": [
              "21.7"
            ]
          },
          "metadata": {},
          "execution_count": 70
        }
      ],
      "source": [
        "imc_ideal_lista = []\n",
        "i = 18.5\n",
        "soma = 0\n",
        "while i < 25.0:\n",
        "    i = round(i,2)\n",
        "    imc_ideal_lista.append(i)\n",
        "    i += 0.1\n",
        "\n",
        "for j in imc_ideal_lista:\n",
        "    soma = soma + j\n",
        "    media = soma / len(imc_ideal_lista)\n",
        "imc_ideal = round(media,2)\n",
        "imc_ideal"
      ]
    },
    {
      "cell_type": "markdown",
      "metadata": {
        "id": "2MWUhjjNYo1G"
      },
      "source": [
        "### 07 - Peso ideal 2\n",
        "Recebendo um valor de altura, encontre o peso '*ideal*' dessa pessoa, que fornece o IMC encontrado acima"
      ]
    },
    {
      "cell_type": "code",
      "execution_count": 71,
      "metadata": {
        "id": "UiphXvGSYo1H",
        "outputId": "a4cd2948-694b-4f77-e2a1-1fe555dd031d",
        "colab": {
          "base_uri": "https://localhost:8080/"
        }
      },
      "outputs": [
        {
          "output_type": "execute_result",
          "data": {
            "text/plain": [
              "62.712999999999994"
            ]
          },
          "metadata": {},
          "execution_count": 71
        }
      ],
      "source": [
        "altura = 1.70\n",
        "\n",
        "# Seu código\n",
        "peso_ideal = (altura ** 2) * imc_ideal\n",
        "peso_ideal"
      ]
    },
    {
      "cell_type": "markdown",
      "metadata": {
        "id": "692a7b7rYo1I"
      },
      "source": [
        "### 08 - Peso ideal 3\n",
        "Dada uma lista contendo as alturas de pacientes, crie uma nova lista que contenha o peso '*ideal*' (que fornece o IMC calculado em **Peso ideal 1**) desses pacientes."
      ]
    },
    {
      "cell_type": "code",
      "execution_count": 73,
      "metadata": {
        "id": "FUXubygkYo1J",
        "outputId": "5a367a1c-31f0-45a2-c3bd-abf6059c8fa8",
        "colab": {
          "base_uri": "https://localhost:8080/"
        }
      },
      "outputs": [
        {
          "output_type": "execute_result",
          "data": {
            "text/plain": [
              "[82.51, 91.19, 62.71, 59.08]"
            ]
          },
          "metadata": {},
          "execution_count": 73
        }
      ],
      "source": [
        "lista_alturas = [1.95, 2.05, 1.70, 1.65]\n",
        "\n",
        "lista_peso_ideal = []\n",
        "\n",
        "# seu código\n",
        "for altura in lista_alturas:\n",
        "    lista_peso_ideal.append(round((altura ** 2) * imc_ideal, 2))\n",
        "\n",
        "lista_peso_ideal"
      ]
    },
    {
      "cell_type": "markdown",
      "metadata": {
        "id": "v_nRiLOwYo1J"
      },
      "source": [
        "### 09 - Peso ideal 4\n",
        "Dada uma lista de tuplas - cada elemento da lista é uma tupla contendo altura e peso de um paciente - crie uma nova lista com o IMC desses pacientes."
      ]
    },
    {
      "cell_type": "code",
      "execution_count": 85,
      "metadata": {
        "id": "v8VuGRYQYo1K",
        "outputId": "820baae2-47e1-4dfc-b9ef-9bfd50562073",
        "colab": {
          "base_uri": "https://localhost:8080/"
        }
      },
      "outputs": [
        {
          "output_type": "execute_result",
          "data": {
            "text/plain": [
              "[0.04, 0.04, 0.05]"
            ]
          },
          "metadata": {},
          "execution_count": 85
        }
      ],
      "source": [
        "altura_peso = [(1.80, 90), (1.65, 75), (1.91, 70)]\n",
        "\n",
        "imc = []\n",
        "\n",
        "# seu código\n",
        "p1, p2, p3 = altura_peso\n",
        "\n",
        "lista_pacientes = [p1, p2, p3]\n",
        "\n",
        "for paciente in lista_pacientes:\n",
        "    imc.append(round( paciente[1] / (paciente[0] ** 2), 2 ) )\n",
        "imc"
      ]
    },
    {
      "cell_type": "markdown",
      "metadata": {
        "id": "4Z9e7sG_Yo1L"
      },
      "source": [
        "### 10 - Peso ideal 5\n",
        "Dada uma lista de **listas** - cada elemento da lista é uma **lista** contendo altura e peso de um paciente, adicione mais um elemento à lista de cada paciente contendo o IMC do paciente. Verifique também se é 'baixo', 'normal' ou 'alto' segundo os padrões da OMS em que normal é entre 18.5 e 24.9.\n",
        "\n",
        "Reflexão: por que no problema anterior temos que criar uma nova lista, e não podemos adicionar os dados de cada indivíduo à tupla?"
      ]
    },
    {
      "cell_type": "code",
      "execution_count": 126,
      "metadata": {
        "id": "jAs00FjSYo1L",
        "outputId": "7df9a3eb-87c8-49d1-f9e1-e4bdcdb033be",
        "colab": {
          "base_uri": "https://localhost:8080/"
        }
      },
      "outputs": [
        {
          "output_type": "execute_result",
          "data": {
            "text/plain": [
              "[[1.8, 90, 0.04, 'baixo'],\n",
              " [1.65, 75, 0.04, 'baixo'],\n",
              " [1.91, 70, 0.05, 'baixo']]"
            ]
          },
          "metadata": {},
          "execution_count": 126
        }
      ],
      "source": [
        "altura_peso = [[1.80, 90], [1.65, 75], [1.91, 70]]\n",
        "\n",
        "# seu código\n",
        "j = 0\n",
        "\n",
        "for i in altura_peso:\n",
        "    if imc[j] >= 24.9:\n",
        "        i.append(imc[j])\n",
        "        i.append('alto')\n",
        "    elif imc[j] <= 18.5:\n",
        "        i.append(imc[j])\n",
        "        i.append('baixo')\n",
        "    else:\n",
        "        i.append(imc[j])\n",
        "        i.append('normal')\n",
        "    j += 1\n",
        "\n",
        "\n",
        "altura_peso"
      ]
    },
    {
      "cell_type": "code",
      "source": [
        ""
      ],
      "metadata": {
        "id": "3BVakOyzwdFs"
      },
      "execution_count": null,
      "outputs": []
    }
  ],
  "metadata": {
    "kernelspec": {
      "display_name": "Python 3",
      "language": "python",
      "name": "python3"
    },
    "language_info": {
      "codemirror_mode": {
        "name": "ipython",
        "version": 3
      },
      "file_extension": ".py",
      "mimetype": "text/x-python",
      "name": "python",
      "nbconvert_exporter": "python",
      "pygments_lexer": "ipython3",
      "version": "3.8.5"
    },
    "colab": {
      "name": "Mod03Ex01 - Python basico.ipynb",
      "provenance": []
    }
  },
  "nbformat": 4,
  "nbformat_minor": 0
}
